{
 "cells": [
  {
   "cell_type": "markdown",
   "id": "991f4089",
   "metadata": {},
   "source": [
    "# Activity Recognition Using Accelerometer Data\n",
    "\n",
    "Author: Ben Gruher\n",
    "\n",
    "Start date: 9/24/21"
   ]
  },
  {
   "cell_type": "markdown",
   "id": "50100320",
   "metadata": {},
   "source": [
    "### **Part 1: Defining the business problem and value proposition**\n",
    "\n",
    "Activity recognition is currently being used by manufacturers of smart phones and smart watches to provide accurate health and exercise information for their users. For example, when I am wearing my Apple Watch and I start to run, my watch generally notifies me that it has detected my activity and asks me if I want to start logging an outdoor run (Apple can distinguish between indoor and outdoor runs). My watch is most likely equipped with various sensors, potentially including an accelerometer, that helps it gather information and make intelligent predictions regarding my activity. \n",
    "\n",
    "Another possible use of activity recognition could be detecting whether an elderly person has fallen. Products such as LifeAlert have given elderly people the ability to call for help in these situations. However, these products are not effective if the user is unconscious. The ability to predict what the user is doing, even if that is laying on the floor after a fall, could be useful for detecting such accidents. Recent updates to the Apple Watch have yielded similar functionality. \n",
    "\n",
    "The above two use cases for activity recognition represent only the tip of the iceberg when it comes to applications of this technology. I hope to gain experience using time-series by working on a relevant business problem and active area of innovation."
   ]
  },
  {
   "cell_type": "markdown",
   "id": "15841474",
   "metadata": {},
   "source": [
    "### **Part 2: Loading the dataset**"
   ]
  },
  {
   "cell_type": "markdown",
   "id": "88d542f5",
   "metadata": {},
   "source": [
    "The dataset is comprised of 15 individual csv files in the Data/ folder. \n",
    "\n",
    "From the documentation:  \n",
    "Data are separated by participant  \n",
    "Each file contains the following information:  \n",
    "    sequential number, x acceleration, y acceleration, z acceleration, label  \n",
    "Labels are codified by numbers:  \n",
    "--- 1: Working at Computer  \n",
    "--- 2: Standing Up, Walking and Going updown stairs  \n",
    "--- 3: Standing  \n",
    "--- 4: Walking  \n",
    "--- 5: Going Up/Down Stairs  \n",
    "--- 6: Walking and Talking with Someone  \n",
    "--- 7: Talking while Standing  \n",
    "\n",
    "We will need to read all of these csv files and concatenate them. "
   ]
  },
  {
   "cell_type": "code",
   "execution_count": 43,
   "id": "504c720a",
   "metadata": {},
   "outputs": [],
   "source": [
    "# import necessary libraries\n",
    "import pandas as pd\n",
    "import numpy as np\n",
    "import os"
   ]
  },
  {
   "cell_type": "code",
   "execution_count": 44,
   "id": "bb19a441",
   "metadata": {},
   "outputs": [],
   "source": [
    "# columns names (from documenation)\n",
    "header = ['seq_num', 'x_accel', 'y_accel', 'z_accel', 'activity']"
   ]
  },
  {
   "cell_type": "code",
   "execution_count": 45,
   "id": "ec0a8aba",
   "metadata": {},
   "outputs": [],
   "source": [
    "# class names mapped to corresponding number (from documentation)\n",
    "class_names = {\n",
    "    0: \"Other\",\n",
    "    1: \"Working at Computer\",\n",
    "    2: \"Standing Up, Walking and Going updown stairs\",\n",
    "    3: \"Standing\",\n",
    "    4: \"Walking\",\n",
    "    5: \"Going Up/Down Stairs\",\n",
    "    6: \"Walking and Talking with Someone\",\n",
    "    7: \"Talking while Standing\"\n",
    "}"
   ]
  },
  {
   "cell_type": "code",
   "execution_count": 46,
   "id": "7ea07e10",
   "metadata": {},
   "outputs": [],
   "source": [
    "df_list = list() # dataframes from each file\n",
    "file_list = ['Data/' + file for file in os.listdir('Data') if file.endswith('csv')] # list of csv files in Data/ directory"
   ]
  },
  {
   "cell_type": "code",
   "execution_count": 47,
   "id": "50b8f3b5",
   "metadata": {},
   "outputs": [],
   "source": [
    "for file in file_list:\n",
    "    df_list.append(pd.read_csv(file, header=None, names=header, index_col='seq_num'))"
   ]
  },
  {
   "cell_type": "code",
   "execution_count": 48,
   "id": "f33e738a",
   "metadata": {},
   "outputs": [],
   "source": [
    "data = pd.concat(df_list, axis=0).reset_index() # concatenate all dataframes in list, adding rows to the same columns\n",
    "data.index = data.index.astype(int) # cast seq_num column from float into int"
   ]
  },
  {
   "cell_type": "code",
   "execution_count": 49,
   "id": "474673ea",
   "metadata": {},
   "outputs": [
    {
     "data": {
      "text/html": [
       "<div>\n",
       "<style scoped>\n",
       "    .dataframe tbody tr th:only-of-type {\n",
       "        vertical-align: middle;\n",
       "    }\n",
       "\n",
       "    .dataframe tbody tr th {\n",
       "        vertical-align: top;\n",
       "    }\n",
       "\n",
       "    .dataframe thead th {\n",
       "        text-align: right;\n",
       "    }\n",
       "</style>\n",
       "<table border=\"1\" class=\"dataframe\">\n",
       "  <thead>\n",
       "    <tr style=\"text-align: right;\">\n",
       "      <th></th>\n",
       "      <th>seq_num</th>\n",
       "      <th>x_accel</th>\n",
       "      <th>y_accel</th>\n",
       "      <th>z_accel</th>\n",
       "      <th>activity</th>\n",
       "    </tr>\n",
       "  </thead>\n",
       "  <tbody>\n",
       "    <tr>\n",
       "      <th>0</th>\n",
       "      <td>0.0</td>\n",
       "      <td>2045</td>\n",
       "      <td>2326</td>\n",
       "      <td>1833</td>\n",
       "      <td>1</td>\n",
       "    </tr>\n",
       "    <tr>\n",
       "      <th>1</th>\n",
       "      <td>1.0</td>\n",
       "      <td>2041</td>\n",
       "      <td>2317</td>\n",
       "      <td>1832</td>\n",
       "      <td>1</td>\n",
       "    </tr>\n",
       "    <tr>\n",
       "      <th>2</th>\n",
       "      <td>2.0</td>\n",
       "      <td>2046</td>\n",
       "      <td>2323</td>\n",
       "      <td>1836</td>\n",
       "      <td>1</td>\n",
       "    </tr>\n",
       "    <tr>\n",
       "      <th>3</th>\n",
       "      <td>3.0</td>\n",
       "      <td>2046</td>\n",
       "      <td>2339</td>\n",
       "      <td>1833</td>\n",
       "      <td>1</td>\n",
       "    </tr>\n",
       "    <tr>\n",
       "      <th>4</th>\n",
       "      <td>4.0</td>\n",
       "      <td>2045</td>\n",
       "      <td>2335</td>\n",
       "      <td>1829</td>\n",
       "      <td>1</td>\n",
       "    </tr>\n",
       "  </tbody>\n",
       "</table>\n",
       "</div>"
      ],
      "text/plain": [
       "   seq_num  x_accel  y_accel  z_accel  activity\n",
       "0      0.0     2045     2326     1833         1\n",
       "1      1.0     2041     2317     1832         1\n",
       "2      2.0     2046     2323     1836         1\n",
       "3      3.0     2046     2339     1833         1\n",
       "4      4.0     2045     2335     1829         1"
      ]
     },
     "execution_count": 49,
     "metadata": {},
     "output_type": "execute_result"
    }
   ],
   "source": [
    "data.head(5)"
   ]
  },
  {
   "cell_type": "markdown",
   "id": "0285116f",
   "metadata": {},
   "source": [
    "### **Part 3: Exploratory Data Analysis:**"
   ]
  },
  {
   "cell_type": "code",
   "execution_count": 50,
   "id": "4ed07d7a",
   "metadata": {},
   "outputs": [],
   "source": [
    "# import necessary libraries\n",
    "import matplotlib.pyplot as plt"
   ]
  },
  {
   "cell_type": "code",
   "execution_count": 51,
   "id": "bb7bc917",
   "metadata": {},
   "outputs": [
    {
     "data": {
      "text/plain": [
       "(1926896, 5)"
      ]
     },
     "execution_count": 51,
     "metadata": {},
     "output_type": "execute_result"
    }
   ],
   "source": [
    "# there are 1,926,896 observations, each with 4 attributes (including target attribute)\n",
    "data.shape"
   ]
  },
  {
   "cell_type": "code",
   "execution_count": 52,
   "id": "f8808f07",
   "metadata": {},
   "outputs": [
    {
     "data": {
      "text/plain": [
       "seq_num     float64\n",
       "x_accel       int64\n",
       "y_accel       int64\n",
       "z_accel       int64\n",
       "activity      int64\n",
       "dtype: object"
      ]
     },
     "execution_count": 52,
     "metadata": {},
     "output_type": "execute_result"
    }
   ],
   "source": [
    "data.dtypes"
   ]
  },
  {
   "cell_type": "code",
   "execution_count": 53,
   "id": "d9a70ccd",
   "metadata": {},
   "outputs": [
    {
     "data": {
      "text/html": [
       "<div>\n",
       "<style scoped>\n",
       "    .dataframe tbody tr th:only-of-type {\n",
       "        vertical-align: middle;\n",
       "    }\n",
       "\n",
       "    .dataframe tbody tr th {\n",
       "        vertical-align: top;\n",
       "    }\n",
       "\n",
       "    .dataframe thead th {\n",
       "        text-align: right;\n",
       "    }\n",
       "</style>\n",
       "<table border=\"1\" class=\"dataframe\">\n",
       "  <thead>\n",
       "    <tr style=\"text-align: right;\">\n",
       "      <th></th>\n",
       "      <th>seq_num</th>\n",
       "      <th>x_accel</th>\n",
       "      <th>y_accel</th>\n",
       "      <th>z_accel</th>\n",
       "      <th>activity</th>\n",
       "    </tr>\n",
       "  </thead>\n",
       "  <tbody>\n",
       "    <tr>\n",
       "      <th>0</th>\n",
       "      <td>0.0</td>\n",
       "      <td>2045</td>\n",
       "      <td>2326</td>\n",
       "      <td>1833</td>\n",
       "      <td>1</td>\n",
       "    </tr>\n",
       "    <tr>\n",
       "      <th>1</th>\n",
       "      <td>1.0</td>\n",
       "      <td>2041</td>\n",
       "      <td>2317</td>\n",
       "      <td>1832</td>\n",
       "      <td>1</td>\n",
       "    </tr>\n",
       "    <tr>\n",
       "      <th>2</th>\n",
       "      <td>2.0</td>\n",
       "      <td>2046</td>\n",
       "      <td>2323</td>\n",
       "      <td>1836</td>\n",
       "      <td>1</td>\n",
       "    </tr>\n",
       "    <tr>\n",
       "      <th>3</th>\n",
       "      <td>3.0</td>\n",
       "      <td>2046</td>\n",
       "      <td>2339</td>\n",
       "      <td>1833</td>\n",
       "      <td>1</td>\n",
       "    </tr>\n",
       "    <tr>\n",
       "      <th>4</th>\n",
       "      <td>4.0</td>\n",
       "      <td>2045</td>\n",
       "      <td>2335</td>\n",
       "      <td>1829</td>\n",
       "      <td>1</td>\n",
       "    </tr>\n",
       "  </tbody>\n",
       "</table>\n",
       "</div>"
      ],
      "text/plain": [
       "   seq_num  x_accel  y_accel  z_accel  activity\n",
       "0      0.0     2045     2326     1833         1\n",
       "1      1.0     2041     2317     1832         1\n",
       "2      2.0     2046     2323     1836         1\n",
       "3      3.0     2046     2339     1833         1\n",
       "4      4.0     2045     2335     1829         1"
      ]
     },
     "execution_count": 53,
     "metadata": {},
     "output_type": "execute_result"
    }
   ],
   "source": [
    "data.head(5)"
   ]
  },
  {
   "cell_type": "code",
   "execution_count": 54,
   "id": "216c44be",
   "metadata": {},
   "outputs": [
    {
     "data": {
      "text/plain": [
       "seq_num     0\n",
       "x_accel     0\n",
       "y_accel     0\n",
       "z_accel     0\n",
       "activity    0\n",
       "dtype: int64"
      ]
     },
     "execution_count": 54,
     "metadata": {},
     "output_type": "execute_result"
    }
   ],
   "source": [
    "# check for missing values\n",
    "data.isnull().sum()"
   ]
  },
  {
   "cell_type": "markdown",
   "id": "d8985c72",
   "metadata": {},
   "source": [
    "Note: if we could guaruntee that these observations were taken sequentially, we could treat them as time-series and compute a much more robust dataset. I need to check with the documenation to see if this is a valid assumption. "
   ]
  },
  {
   "cell_type": "markdown",
   "id": "b6084e27",
   "metadata": {},
   "source": [
    "**Acceleration values:**"
   ]
  },
  {
   "cell_type": "code",
   "execution_count": 55,
   "id": "3237dfcc",
   "metadata": {},
   "outputs": [
    {
     "data": {
      "image/png": "[encoded data removed]",
      "text/plain": [
       "<Figure size 864x504 with 1 Axes>"
      ]
     },
     "metadata": {
      "needs_background": "light"
     },
     "output_type": "display_data"
    }
   ],
   "source": [
    "# explore the distributions of x_accel, y_accel, and z_accel\n",
    "labels = header[1:-1]\n",
    "fig, ax = plt.subplots(figsize=(12, 7))\n",
    "\n",
    "# Remove top and right border\n",
    "ax.spines['top'].set_visible(False)\n",
    "ax.spines['right'].set_visible(False)\n",
    "ax.spines['left'].set_visible(False)\n",
    "\n",
    "# Remove y-axis tick marks\n",
    "ax.yaxis.set_ticks_position('none')\n",
    "\n",
    "# Set plot title\n",
    "ax.set_title('Distribution of acceleration for x, y, and z directions')\n",
    "\n",
    "# Set species names as labels for the boxplot\n",
    "boxes = [data.x_accel, data.y_accel, data.z_accel]\n",
    "\n",
    "ax.boxplot(boxes, labels=labels)\n",
    "plt.show()"
   ]
  },
  {
   "cell_type": "markdown",
   "id": "72bf7fee",
   "metadata": {},
   "source": [
    "Note that the data has many outliers. These outliers could either indicate misreads by the hardware or could indicate a more abrupt movement, which could help indicate the user's activity. For example, an extremely high or low y-value from the accelerometer could mean that the user is either jumping or falling. These data points should be left in the dataset, as they could be important in determining the relationship between the input features and the target variable. \n",
    "\n",
    "The following histograms display the distribution of the majority of the dataset for each of the features. A range is chosen to highlight the majority of the data but note that most of the outliers are not shown."
   ]
  },
  {
   "cell_type": "code",
   "execution_count": 56,
   "id": "d7cf41c1",
   "metadata": {},
   "outputs": [
    {
     "data": {
      "image/png": "[encoded data removed]",
      "text/plain": [
       "<Figure size 432x288 with 1 Axes>"
      ]
     },
     "metadata": {
      "needs_background": "light"
     },
     "output_type": "display_data"
    }
   ],
   "source": [
    "plt.hist(data.x_accel, range=[1500, 2500])\n",
    "plt.show()"
   ]
  },
  {
   "cell_type": "code",
   "execution_count": 57,
   "id": "ae4ded4f",
   "metadata": {},
   "outputs": [
    {
     "data": {
      "image/png": "[encoded data removed]",
      "text/plain": [
       "<Figure size 432x288 with 1 Axes>"
      ]
     },
     "metadata": {
      "needs_background": "light"
     },
     "output_type": "display_data"
    }
   ],
   "source": [
    "plt.hist(data.y_accel, range=[2000, 2750])\n",
    "plt.show()"
   ]
  },
  {
   "cell_type": "code",
   "execution_count": 58,
   "id": "288934eb",
   "metadata": {},
   "outputs": [
    {
     "data": {
      "image/png": "[encoded data removed]",
      "text/plain": [
       "<Figure size 432x288 with 1 Axes>"
      ]
     },
     "metadata": {
      "needs_background": "light"
     },
     "output_type": "display_data"
    }
   ],
   "source": [
    "plt.hist(data.z_accel, range=[1750, 2250])\n",
    "plt.show()"
   ]
  },
  {
   "cell_type": "markdown",
   "id": "69108bb6",
   "metadata": {},
   "source": [
    "**Activities:**"
   ]
  },
  {
   "cell_type": "code",
   "execution_count": 59,
   "id": "0a1f32ac",
   "metadata": {},
   "outputs": [
    {
     "data": {
      "text/plain": [
       "1    608667\n",
       "7    593563\n",
       "4    357064\n",
       "3    216737\n",
       "5     51498\n",
       "2     47878\n",
       "6     47770\n",
       "0      3719\n",
       "Name: activity, dtype: int64"
      ]
     },
     "execution_count": 59,
     "metadata": {},
     "output_type": "execute_result"
    }
   ],
   "source": [
    "data.activity.value_counts()"
   ]
  },
  {
   "cell_type": "code",
   "execution_count": 60,
   "id": "6e22c912",
   "metadata": {},
   "outputs": [
    {
     "data": {
      "text/html": [
       "<div>\n",
       "<style scoped>\n",
       "    .dataframe tbody tr th:only-of-type {\n",
       "        vertical-align: middle;\n",
       "    }\n",
       "\n",
       "    .dataframe tbody tr th {\n",
       "        vertical-align: top;\n",
       "    }\n",
       "\n",
       "    .dataframe thead th {\n",
       "        text-align: right;\n",
       "    }\n",
       "</style>\n",
       "<table border=\"1\" class=\"dataframe\">\n",
       "  <thead>\n",
       "    <tr style=\"text-align: right;\">\n",
       "      <th></th>\n",
       "      <th>seq_num</th>\n",
       "      <th>x_accel</th>\n",
       "      <th>y_accel</th>\n",
       "      <th>z_accel</th>\n",
       "      <th>activity</th>\n",
       "    </tr>\n",
       "  </thead>\n",
       "  <tbody>\n",
       "    <tr>\n",
       "      <th>122200</th>\n",
       "      <td>122200.0</td>\n",
       "      <td>2064</td>\n",
       "      <td>2387</td>\n",
       "      <td>2002</td>\n",
       "      <td>0</td>\n",
       "    </tr>\n",
       "    <tr>\n",
       "      <th>282201</th>\n",
       "      <td>160000.0</td>\n",
       "      <td>1926</td>\n",
       "      <td>2359</td>\n",
       "      <td>2026</td>\n",
       "      <td>0</td>\n",
       "    </tr>\n",
       "    <tr>\n",
       "      <th>329702</th>\n",
       "      <td>47500.0</td>\n",
       "      <td>1991</td>\n",
       "      <td>2322</td>\n",
       "      <td>1928</td>\n",
       "      <td>0</td>\n",
       "    </tr>\n",
       "    <tr>\n",
       "      <th>329703</th>\n",
       "      <td>47501.0</td>\n",
       "      <td>2007</td>\n",
       "      <td>2324</td>\n",
       "      <td>1919</td>\n",
       "      <td>0</td>\n",
       "    </tr>\n",
       "    <tr>\n",
       "      <th>329704</th>\n",
       "      <td>47502.0</td>\n",
       "      <td>2030</td>\n",
       "      <td>2319</td>\n",
       "      <td>1933</td>\n",
       "      <td>0</td>\n",
       "    </tr>\n",
       "    <tr>\n",
       "      <th>...</th>\n",
       "      <td>...</td>\n",
       "      <td>...</td>\n",
       "      <td>...</td>\n",
       "      <td>...</td>\n",
       "      <td>...</td>\n",
       "    </tr>\n",
       "    <tr>\n",
       "      <th>1395060</th>\n",
       "      <td>39409.0</td>\n",
       "      <td>2091</td>\n",
       "      <td>2541</td>\n",
       "      <td>2067</td>\n",
       "      <td>0</td>\n",
       "    </tr>\n",
       "    <tr>\n",
       "      <th>1522391</th>\n",
       "      <td>166740.0</td>\n",
       "      <td>2065</td>\n",
       "      <td>2534</td>\n",
       "      <td>2060</td>\n",
       "      <td>0</td>\n",
       "    </tr>\n",
       "    <tr>\n",
       "      <th>1637093</th>\n",
       "      <td>114700.0</td>\n",
       "      <td>1758</td>\n",
       "      <td>2303</td>\n",
       "      <td>2017</td>\n",
       "      <td>0</td>\n",
       "    </tr>\n",
       "    <tr>\n",
       "      <th>1763894</th>\n",
       "      <td>126800.0</td>\n",
       "      <td>2102</td>\n",
       "      <td>2495</td>\n",
       "      <td>1939</td>\n",
       "      <td>0</td>\n",
       "    </tr>\n",
       "    <tr>\n",
       "      <th>1926895</th>\n",
       "      <td>163000.0</td>\n",
       "      <td>2058</td>\n",
       "      <td>2405</td>\n",
       "      <td>1943</td>\n",
       "      <td>0</td>\n",
       "    </tr>\n",
       "  </tbody>\n",
       "</table>\n",
       "<p>3719 rows × 5 columns</p>\n",
       "</div>"
      ],
      "text/plain": [
       "          seq_num  x_accel  y_accel  z_accel  activity\n",
       "122200   122200.0     2064     2387     2002         0\n",
       "282201   160000.0     1926     2359     2026         0\n",
       "329702    47500.0     1991     2322     1928         0\n",
       "329703    47501.0     2007     2324     1919         0\n",
       "329704    47502.0     2030     2319     1933         0\n",
       "...           ...      ...      ...      ...       ...\n",
       "1395060   39409.0     2091     2541     2067         0\n",
       "1522391  166740.0     2065     2534     2060         0\n",
       "1637093  114700.0     1758     2303     2017         0\n",
       "1763894  126800.0     2102     2495     1939         0\n",
       "1926895  163000.0     2058     2405     1943         0\n",
       "\n",
       "[3719 rows x 5 columns]"
      ]
     },
     "execution_count": 60,
     "metadata": {},
     "output_type": "execute_result"
    }
   ],
   "source": [
    "data[data['activity'] == 0]"
   ]
  },
  {
   "cell_type": "code",
   "execution_count": 61,
   "id": "851f63a4",
   "metadata": {},
   "outputs": [
    {
     "data": {
      "image/png": "[encoded data removed]",
      "text/plain": [
       "<Figure size 432x288 with 1 Axes>"
      ]
     },
     "metadata": {
      "needs_background": "light"
     },
     "output_type": "display_data"
    }
   ],
   "source": [
    "plt.bar(data.activity.value_counts().index, data.activity.value_counts())\n",
    "plt.show()"
   ]
  },
  {
   "cell_type": "markdown",
   "id": "c43998eb",
   "metadata": {},
   "source": [
    "**Acceleration values for each activity:**"
   ]
  },
  {
   "cell_type": "code",
   "execution_count": 62,
   "id": "882d4e63",
   "metadata": {},
   "outputs": [
    {
     "data": {
      "image/png": "[encoded data removed]",
      "text/plain": [
       "<Figure size 1296x1800 with 8 Axes>"
      ]
     },
     "metadata": {
      "needs_background": "light"
     },
     "output_type": "display_data"
    }
   ],
   "source": [
    "# explore the distributions of x_accel, y_accel, and z_accel\n",
    "labels = header[1:-1]\n",
    "plt.rcParams['figure.figsize'] = [18, 25]\n",
    "\n",
    "activities = data.activity.unique()\n",
    "\n",
    "for counter in range(len(activities)):\n",
    "    plt.subplot(3, 3, counter + 1)\n",
    "\n",
    "    plt.title(class_names[counter])\n",
    "\n",
    "    # display data from current activity\n",
    "    subset_data = data[data.activity==counter]\n",
    "    \n",
    "    # Set species names as labels for the boxplot\n",
    "    boxes = [subset_data.x_accel, subset_data.y_accel, subset_data.z_accel]\n",
    "\n",
    "    plt.boxplot(boxes, labels=labels)\n",
    "plt.show()"
   ]
  },
  {
   "cell_type": "code",
   "execution_count": 63,
   "id": "f62e1fb7",
   "metadata": {},
   "outputs": [],
   "source": [
    "# reset matplotlib size\n",
    "%matplotlib inline"
   ]
  },
  {
   "cell_type": "markdown",
   "id": "66112820",
   "metadata": {},
   "source": [
    "**Correlation:**"
   ]
  },
  {
   "cell_type": "code",
   "execution_count": 64,
   "id": "5a65509f",
   "metadata": {},
   "outputs": [
    {
     "data": {
      "image/png": "[encoded data removed]",
      "text/plain": [
       "<Figure size 432x288 with 2 Axes>"
      ]
     },
     "metadata": {
      "needs_background": "light"
     },
     "output_type": "display_data"
    }
   ],
   "source": [
    "import seaborn as sns\n",
    "\n",
    "corr = data.corr()\n",
    "ax = sns.heatmap(\n",
    "    corr, \n",
    "    vmin=-1, vmax=1, center=0,\n",
    "    cmap=sns.diverging_palette(20, 220, n=200),\n",
    "    square=True\n",
    ")"
   ]
  },
  {
   "cell_type": "markdown",
   "id": "d99a0c36",
   "metadata": {},
   "source": [
    "Based on this correlation heat map, acceleration in the X direction and acceleration in the Y direction have a fairly strong correlation. The same can be true about Y-directed acceleration and Z-directed acceleration. However, X-directed acceleration does not have a correlation with Z-directed acceleration. None of the accelerations have any significant correlation with activity but since activity is a nominal categorical variable, correlation does not make much sense here. "
   ]
  },
  {
   "cell_type": "code",
   "execution_count": 65,
   "id": "77958702",
   "metadata": {},
   "outputs": [
    {
     "data": {
      "text/plain": [
       "3719"
      ]
     },
     "execution_count": 65,
     "metadata": {},
     "output_type": "execute_result"
    }
   ],
   "source": [
    "len(data[data.activity==0])"
   ]
  },
  {
   "cell_type": "markdown",
   "id": "d4df86bb",
   "metadata": {},
   "source": [
    "### Data Preprocessing"
   ]
  },
  {
   "cell_type": "markdown",
   "id": "e6e49bee",
   "metadata": {},
   "source": [
    "For this particular dataset, I did not feel that there was a whole lot of preprocessing to be done on the data. The three features (x_accel, y_accel, and z_accel) were all complete (no missing values) and basically all on the same scale (no standardization or normalization required). I decided to leave the outliers in the dataset because I felt that they might be indicative of particular activities. "
   ]
  },
  {
   "cell_type": "markdown",
   "id": "44005f1d",
   "metadata": {},
   "source": [
    "However, the documentation did not say anything about a label of zero. This could either mean that those data points were labeled in mistake or that they represented some 'other' category (as I assumed for much of the EDA process). Since this dataset and project were more focused around identifying the 7 activities mentioned on the dataset website, I decided to remove those records from the dataset. "
   ]
  },
  {
   "cell_type": "code",
   "execution_count": 66,
   "id": "425c3378",
   "metadata": {},
   "outputs": [],
   "source": [
    "rowsToDrop = data[data.activity==0].index\n",
    "data.drop(index=rowsToDrop, inplace=True, axis=0)"
   ]
  },
  {
   "cell_type": "markdown",
   "id": "7a64ca6c",
   "metadata": {},
   "source": [
    "**Splitting train and test sets**"
   ]
  },
  {
   "cell_type": "code",
   "execution_count": 67,
   "id": "8018988c",
   "metadata": {},
   "outputs": [],
   "source": [
    "X = data[['x_accel', 'y_accel', 'z_accel']]\n",
    "y = data['activity']"
   ]
  },
  {
   "cell_type": "code",
   "execution_count": 68,
   "id": "200e11a1",
   "metadata": {},
   "outputs": [],
   "source": [
    "from sklearn.model_selection import train_test_split"
   ]
  },
  {
   "cell_type": "code",
   "execution_count": 69,
   "id": "f324db30",
   "metadata": {},
   "outputs": [],
   "source": [
    "X_train, X_test, y_train, y_test = train_test_split(X, y, test_size=0.33, random_state=12)"
   ]
  },
  {
   "cell_type": "markdown",
   "id": "40279da4",
   "metadata": {},
   "source": [
    "**Balancing the classes using SMOTE:**"
   ]
  },
  {
   "cell_type": "code",
   "execution_count": 70,
   "id": "b75f76af",
   "metadata": {},
   "outputs": [],
   "source": [
    "# !pip install imbalanced-learn # uncomment if you need to install the imbalanced-learn library"
   ]
  },
  {
   "cell_type": "code",
   "execution_count": 71,
   "id": "e80bf2c1",
   "metadata": {},
   "outputs": [],
   "source": [
    "from imblearn.over_sampling import SMOTE"
   ]
  },
  {
   "cell_type": "markdown",
   "id": "3a889c08",
   "metadata": {},
   "source": [
    "I decided to use SMOTE on only the training dataset because I wanted real examples in my test set. This would more closely represent the unseen data that would be given to this model, should it be deployed in production. "
   ]
  },
  {
   "cell_type": "code",
   "execution_count": 72,
   "id": "766e3999",
   "metadata": {},
   "outputs": [],
   "source": [
    "smote = SMOTE()\n",
    "X_train, y_train = smote.fit_resample(X_train, y_train)"
   ]
  },
  {
   "cell_type": "code",
   "execution_count": 73,
   "id": "ee56bc88",
   "metadata": {},
   "outputs": [
    {
     "data": {
      "text/plain": [
       "2855860"
      ]
     },
     "execution_count": 73,
     "metadata": {},
     "output_type": "execute_result"
    }
   ],
   "source": [
    "len(X_train)"
   ]
  },
  {
   "cell_type": "code",
   "execution_count": 74,
   "id": "3b932563",
   "metadata": {},
   "outputs": [
    {
     "data": {
      "text/plain": [
       "2855860"
      ]
     },
     "execution_count": 74,
     "metadata": {},
     "output_type": "execute_result"
    }
   ],
   "source": [
    "len(y_train)"
   ]
  },
  {
   "cell_type": "code",
   "execution_count": 75,
   "id": "bde7fbbd",
   "metadata": {},
   "outputs": [
    {
     "data": {
      "text/plain": [
       "7    407980\n",
       "6    407980\n",
       "5    407980\n",
       "4    407980\n",
       "3    407980\n",
       "2    407980\n",
       "1    407980\n",
       "Name: activity, dtype: int64"
      ]
     },
     "execution_count": 75,
     "metadata": {},
     "output_type": "execute_result"
    }
   ],
   "source": [
    "y_train.value_counts()"
   ]
  },
  {
   "cell_type": "markdown",
   "id": "097e8fa8",
   "metadata": {},
   "source": [
    "**Splitting train and test sets**"
   ]
  },
  {
   "cell_type": "code",
   "execution_count": 76,
   "id": "90f9a039",
   "metadata": {},
   "outputs": [],
   "source": [
    "from sklearn.model_selection import train_test_split"
   ]
  },
  {
   "cell_type": "code",
   "execution_count": 77,
   "id": "54c19f7f",
   "metadata": {},
   "outputs": [],
   "source": [
    "X_train, X_test, y_train, y_test = train_test_split(X, y, test_size=0.33, random_state=12)"
   ]
  },
  {
   "cell_type": "markdown",
   "id": "e462c793",
   "metadata": {},
   "source": [
    "### Baseline Model"
   ]
  },
  {
   "cell_type": "markdown",
   "id": "03a2848a",
   "metadata": {},
   "source": [
    "For my baseline model, I'm going to use the sklearn logistic regression algorithm. This option is super easy to implement so it makes a good choice for a baseline model. "
   ]
  },
  {
   "cell_type": "code",
   "execution_count": 78,
   "id": "61bc5774",
   "metadata": {},
   "outputs": [],
   "source": [
    "from sklearn.linear_model import LogisticRegression"
   ]
  },
  {
   "cell_type": "code",
   "execution_count": null,
   "id": "a29966ff",
   "metadata": {},
   "outputs": [],
   "source": [
    "lr = LogisticRegression(random_state=12, solver='newton-cg')\n",
    "lr.fit(X_train, y_train)"
   ]
  },
  {
   "cell_type": "code",
   "execution_count": null,
   "id": "4b6ec684",
   "metadata": {},
   "outputs": [],
   "source": [
    "# let's try the roc-auc metric using the one-vs-rest approach to get a single value\n",
    "from sklearn.metrics import roc_auc_score\n",
    "predictions = lr.predict_proba(X_test)\n",
    "roc_auc_score(y_test, predictions, multi_class='ovr')"
   ]
  },
  {
   "cell_type": "code",
   "execution_count": null,
   "id": "4615c532",
   "metadata": {},
   "outputs": [],
   "source": []
  }
 ],
 "metadata": {
  "kernelspec": {
   "display_name": "conda_python3",
   "language": "python",
   "name": "conda_python3"
  },
  "language_info": {
   "codemirror_mode": {
    "name": "ipython",
    "version": 3
   },
   "file_extension": ".py",
   "mimetype": "text/x-python",
   "name": "python",
   "nbconvert_exporter": "python",
   "pygments_lexer": "ipython3",
   "version": "3.6.13"
  }
 },
 "nbformat": 4,
 "nbformat_minor": 5
}
