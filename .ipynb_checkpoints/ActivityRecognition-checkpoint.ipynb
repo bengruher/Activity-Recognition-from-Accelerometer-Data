{
 "cells": [
  {
   "cell_type": "markdown",
   "id": "df87c725",
   "metadata": {},
   "source": [
    "# Activity Recognition Using Accelerometer Data\n",
    "\n",
    "Author: Ben Gruher\n",
    "\n",
    "Start date: 9/24/21"
   ]
  },
  {
   "cell_type": "markdown",
   "id": "462a4859",
   "metadata": {},
   "source": [
    "### **Part 1: Defining the business problem and value proposition**\n",
    "\n",
    "Activity recognition is currently being used by manufacturers of smart phones and smart watches to provide accurate health and exercise information for their users. For example, when I am wearing my Apple Watch and I start to run, my watch generally notifies me that it has detected my activity and asks me if I want to start logging an outdoor run (Apple can distinguish between indoor and outdoor runs). My watch is most likely equipped with various sensors, potentially including an accelerometer, that helps it gather information and make intelligent predictions regarding my activity. \n",
    "\n",
    "Another possible use of activity recognition could be detecting whether an elderly person has fallen. Products such as LifeAlert have given elderly people the ability to call for help in these situations. However, these products are not effective if the user is unconscious. The ability to predict what the user is doing, even if that is laying on the floor after a fall, could be useful for detecting such accidents. Recent updates to the Apple Watch have yielded similar functionality. \n",
    "\n",
    "The above two use cases for activity recognition represent only the tip of the iceberg when it comes to applications of this technology. I hope to gain experience using time-series by working on a relevant business problem and active area of innovation."
   ]
  },
  {
   "cell_type": "markdown",
   "id": "fb7011cd",
   "metadata": {},
   "source": [
    "### **Part 2: Loading the dataset**"
   ]
  },
  {
   "cell_type": "markdown",
   "id": "5d205ec4",
   "metadata": {},
   "source": [
    "The dataset is comprised of 15 individual csv files in the Data/ folder. \n",
    "\n",
    "From the documentation:  \n",
    "Data are separated by participant  \n",
    "Each file contains the following information:  \n",
    "    sequential number, x acceleration, y acceleration, z acceleration, label  \n",
    "Labels are codified by numbers:  \n",
    "--- 1: Working at Computer  \n",
    "--- 2: Standing Up, Walking and Going updown stairs  \n",
    "--- 3: Standing  \n",
    "--- 4: Walking  \n",
    "--- 5: Going Up/Down Stairs  \n",
    "--- 6: Walking and Talking with Someone  \n",
    "--- 7: Talking while Standing  \n",
    "\n",
    "We will need to read all of these csv files and concatenate them. "
   ]
  },
  {
   "cell_type": "code",
   "execution_count": 1,
   "id": "f51a2ceb",
   "metadata": {},
   "outputs": [],
   "source": [
    "# import necessary libraries\n",
    "import pandas as pd\n",
    "import numpy as np\n",
    "import os"
   ]
  },
  {
   "cell_type": "code",
   "execution_count": 2,
   "id": "888b948e",
   "metadata": {},
   "outputs": [],
   "source": [
    "# columns names (from documenation)\n",
    "header = ['seq_num', 'x_accel', 'y_accel', 'z_accel', 'activity']"
   ]
  },
  {
   "cell_type": "code",
   "execution_count": 3,
   "id": "b72fa961",
   "metadata": {},
   "outputs": [],
   "source": [
    "# class names mapped to corresponding number (from documentation)\n",
    "class_names = {\n",
    "    0: \"Other\",\n",
    "    1: \"Working at Computer\",\n",
    "    2: \"Standing Up, Walking and Going updown stairs\",\n",
    "    3: \"Standing\",\n",
    "    4: \"Walking\",\n",
    "    5: \"Going Up/Down Stairs\",\n",
    "    6: \"Walking and Talking with Someone\",\n",
    "    7: \"Talking while Standing\"\n",
    "}"
   ]
  },
  {
   "cell_type": "code",
   "execution_count": 4,
   "id": "0827c3f0",
   "metadata": {},
   "outputs": [],
   "source": [
    "df_list = list() # dataframes from each file\n",
    "file_list = ['Data/' + file for file in os.listdir('Data') if file.endswith('csv')] # list of csv files in Data/ directory"
   ]
  },
  {
   "cell_type": "code",
   "execution_count": 5,
   "id": "e001c9c3",
   "metadata": {},
   "outputs": [],
   "source": [
    "for file in file_list:\n",
    "    df_list.append(pd.read_csv(file, header=None, names=header, index_col='seq_num'))"
   ]
  },
  {
   "cell_type": "code",
   "execution_count": 6,
   "id": "248b17ba",
   "metadata": {},
   "outputs": [],
   "source": [
    "data = pd.concat(df_list, axis=0).reset_index(drop=True) # concatenate all dataframes in list, adding rows to the same columns"
   ]
  },
  {
   "cell_type": "code",
   "execution_count": 7,
   "id": "1df9d794",
   "metadata": {},
   "outputs": [
    {
     "data": {
      "text/html": [
       "<div>\n",
       "<style scoped>\n",
       "    .dataframe tbody tr th:only-of-type {\n",
       "        vertical-align: middle;\n",
       "    }\n",
       "\n",
       "    .dataframe tbody tr th {\n",
       "        vertical-align: top;\n",
       "    }\n",
       "\n",
       "    .dataframe thead th {\n",
       "        text-align: right;\n",
       "    }\n",
       "</style>\n",
       "<table border=\"1\" class=\"dataframe\">\n",
       "  <thead>\n",
       "    <tr style=\"text-align: right;\">\n",
       "      <th></th>\n",
       "      <th>x_accel</th>\n",
       "      <th>y_accel</th>\n",
       "      <th>z_accel</th>\n",
       "      <th>activity</th>\n",
       "    </tr>\n",
       "  </thead>\n",
       "  <tbody>\n",
       "    <tr>\n",
       "      <th>0</th>\n",
       "      <td>2045</td>\n",
       "      <td>2326</td>\n",
       "      <td>1833</td>\n",
       "      <td>1</td>\n",
       "    </tr>\n",
       "    <tr>\n",
       "      <th>1</th>\n",
       "      <td>2041</td>\n",
       "      <td>2317</td>\n",
       "      <td>1832</td>\n",
       "      <td>1</td>\n",
       "    </tr>\n",
       "    <tr>\n",
       "      <th>2</th>\n",
       "      <td>2046</td>\n",
       "      <td>2323</td>\n",
       "      <td>1836</td>\n",
       "      <td>1</td>\n",
       "    </tr>\n",
       "    <tr>\n",
       "      <th>3</th>\n",
       "      <td>2046</td>\n",
       "      <td>2339</td>\n",
       "      <td>1833</td>\n",
       "      <td>1</td>\n",
       "    </tr>\n",
       "    <tr>\n",
       "      <th>4</th>\n",
       "      <td>2045</td>\n",
       "      <td>2335</td>\n",
       "      <td>1829</td>\n",
       "      <td>1</td>\n",
       "    </tr>\n",
       "  </tbody>\n",
       "</table>\n",
       "</div>"
      ],
      "text/plain": [
       "   x_accel  y_accel  z_accel  activity\n",
       "0     2045     2326     1833         1\n",
       "1     2041     2317     1832         1\n",
       "2     2046     2323     1836         1\n",
       "3     2046     2339     1833         1\n",
       "4     2045     2335     1829         1"
      ]
     },
     "execution_count": 7,
     "metadata": {},
     "output_type": "execute_result"
    }
   ],
   "source": [
    "data.head(5)"
   ]
  },
  {
   "cell_type": "markdown",
   "id": "16e01e51",
   "metadata": {},
   "source": [
    "### **Part 3: Exploratory Data Analysis:**"
   ]
  },
  {
   "cell_type": "code",
   "execution_count": 10,
   "id": "690754f0",
   "metadata": {},
   "outputs": [],
   "source": [
    "# import necessary libraries\n",
    "import matplotlib.pyplot as plt"
   ]
  },
  {
   "cell_type": "code",
   "execution_count": 9,
   "id": "70d0af63",
   "metadata": {},
   "outputs": [
    {
     "data": {
      "text/plain": [
       "(1926896, 4)"
      ]
     },
     "execution_count": 9,
     "metadata": {},
     "output_type": "execute_result"
    }
   ],
   "source": [
    "# there are 1,926,896 observations, each with 4 attributes (including target attribute)\n",
    "data.shape"
   ]
  },
  {
   "cell_type": "code",
   "execution_count": 10,
   "id": "594228ae",
   "metadata": {},
   "outputs": [
    {
     "data": {
      "text/plain": [
       "x_accel     int64\n",
       "y_accel     int64\n",
       "z_accel     int64\n",
       "activity    int64\n",
       "dtype: object"
      ]
     },
     "execution_count": 10,
     "metadata": {},
     "output_type": "execute_result"
    }
   ],
   "source": [
    "data.dtypes"
   ]
  },
  {
   "cell_type": "code",
   "execution_count": 11,
   "id": "98641c24",
   "metadata": {},
   "outputs": [
    {
     "data": {
      "text/html": [
       "<div>\n",
       "<style scoped>\n",
       "    .dataframe tbody tr th:only-of-type {\n",
       "        vertical-align: middle;\n",
       "    }\n",
       "\n",
       "    .dataframe tbody tr th {\n",
       "        vertical-align: top;\n",
       "    }\n",
       "\n",
       "    .dataframe thead th {\n",
       "        text-align: right;\n",
       "    }\n",
       "</style>\n",
       "<table border=\"1\" class=\"dataframe\">\n",
       "  <thead>\n",
       "    <tr style=\"text-align: right;\">\n",
       "      <th></th>\n",
       "      <th>x_accel</th>\n",
       "      <th>y_accel</th>\n",
       "      <th>z_accel</th>\n",
       "      <th>activity</th>\n",
       "    </tr>\n",
       "  </thead>\n",
       "  <tbody>\n",
       "    <tr>\n",
       "      <th>0</th>\n",
       "      <td>2045</td>\n",
       "      <td>2326</td>\n",
       "      <td>1833</td>\n",
       "      <td>1</td>\n",
       "    </tr>\n",
       "    <tr>\n",
       "      <th>1</th>\n",
       "      <td>2041</td>\n",
       "      <td>2317</td>\n",
       "      <td>1832</td>\n",
       "      <td>1</td>\n",
       "    </tr>\n",
       "    <tr>\n",
       "      <th>2</th>\n",
       "      <td>2046</td>\n",
       "      <td>2323</td>\n",
       "      <td>1836</td>\n",
       "      <td>1</td>\n",
       "    </tr>\n",
       "    <tr>\n",
       "      <th>3</th>\n",
       "      <td>2046</td>\n",
       "      <td>2339</td>\n",
       "      <td>1833</td>\n",
       "      <td>1</td>\n",
       "    </tr>\n",
       "    <tr>\n",
       "      <th>4</th>\n",
       "      <td>2045</td>\n",
       "      <td>2335</td>\n",
       "      <td>1829</td>\n",
       "      <td>1</td>\n",
       "    </tr>\n",
       "  </tbody>\n",
       "</table>\n",
       "</div>"
      ],
      "text/plain": [
       "   x_accel  y_accel  z_accel  activity\n",
       "0     2045     2326     1833         1\n",
       "1     2041     2317     1832         1\n",
       "2     2046     2323     1836         1\n",
       "3     2046     2339     1833         1\n",
       "4     2045     2335     1829         1"
      ]
     },
     "execution_count": 11,
     "metadata": {},
     "output_type": "execute_result"
    }
   ],
   "source": [
    "data.head(5)"
   ]
  },
  {
   "cell_type": "code",
   "execution_count": 12,
   "id": "42483f0e",
   "metadata": {},
   "outputs": [
    {
     "data": {
      "text/plain": [
       "x_accel     0\n",
       "y_accel     0\n",
       "z_accel     0\n",
       "activity    0\n",
       "dtype: int64"
      ]
     },
     "execution_count": 12,
     "metadata": {},
     "output_type": "execute_result"
    }
   ],
   "source": [
    "# check for missing values\n",
    "data.isnull().sum()"
   ]
  },
  {
   "cell_type": "markdown",
   "id": "a7e81e7a",
   "metadata": {},
   "source": [
    "Note: if we could guaruntee that these observations were taken sequentially, we could treat them as time-series and compute a much more robust dataset. I need to check with the documenation to see if this is a valid assumption. "
   ]
  },
  {
   "cell_type": "markdown",
   "id": "6cfe998c",
   "metadata": {},
   "source": [
    "**Acceleration values:**"
   ]
  },
  {
   "cell_type": "code",
   "execution_count": 13,
   "id": "94d859d1",
   "metadata": {},
   "outputs": [
    {
     "data": {
      "image/png": "[encoded data removed]",
      "text/plain": [
       "<Figure size 864x504 with 1 Axes>"
      ]
     },
     "metadata": {
      "needs_background": "light"
     },
     "output_type": "display_data"
    }
   ],
   "source": [
    "# explore the distributions of x_accel, y_accel, and z_accel\n",
    "labels = header[1:-1]\n",
    "fig, ax = plt.subplots(figsize=(12, 7))\n",
    "\n",
    "# Remove top and right border\n",
    "ax.spines['top'].set_visible(False)\n",
    "ax.spines['right'].set_visible(False)\n",
    "ax.spines['left'].set_visible(False)\n",
    "\n",
    "# Remove y-axis tick marks\n",
    "ax.yaxis.set_ticks_position('none')\n",
    "\n",
    "# Set plot title\n",
    "ax.set_title('Distribution of acceleration for x, y, and z directions')\n",
    "\n",
    "# Set species names as labels for the boxplot\n",
    "boxes = [data.x_accel, data.y_accel, data.z_accel]\n",
    "\n",
    "ax.boxplot(boxes, labels=labels)\n",
    "plt.show()"
   ]
  },
  {
   "cell_type": "markdown",
   "id": "1e0d23db",
   "metadata": {},
   "source": [
    "Note that the data has many outliers. These outliers could either indicate misreads by the hardware or could indicate a more abrupt movement, which could help indicate the user's activity. For example, an extremely high or low y-value from the accelerometer could mean that the user is either jumping or falling. These data points should be left in the dataset, as they could be important in determining the relationship between the input features and the target variable. \n",
    "\n",
    "The following histograms display the distribution of the majority of the dataset for each of the features. A range is chosen to highlight the majority of the data but note that most of the outliers are not shown."
   ]
  },
  {
   "cell_type": "code",
   "execution_count": 14,
   "id": "d11ab35a",
   "metadata": {},
   "outputs": [
    {
     "data": {
      "image/png": "[encoded data removed]",
      "text/plain": [
       "<Figure size 432x288 with 1 Axes>"
      ]
     },
     "metadata": {
      "needs_background": "light"
     },
     "output_type": "display_data"
    }
   ],
   "source": [
    "plt.hist(data.x_accel, range=[1500, 2500])\n",
    "plt.title('Primary distribution of x_accel values')\n",
    "plt.show()"
   ]
  },
  {
   "cell_type": "code",
   "execution_count": 15,
   "id": "053c9ea0",
   "metadata": {},
   "outputs": [
    {
     "data": {
      "image/png": "[encoded data removed]",
      "text/plain": [
       "<Figure size 432x288 with 1 Axes>"
      ]
     },
     "metadata": {
      "needs_background": "light"
     },
     "output_type": "display_data"
    }
   ],
   "source": [
    "plt.hist(data.y_accel, range=[2000, 2750])\n",
    "plt.title('Primary distribution of y_accel values')\n",
    "plt.show()"
   ]
  },
  {
   "cell_type": "code",
   "execution_count": 16,
   "id": "60ab1c7c",
   "metadata": {},
   "outputs": [
    {
     "data": {
      "image/png": "[encoded data removed]",
      "text/plain": [
       "<Figure size 432x288 with 1 Axes>"
      ]
     },
     "metadata": {
      "needs_background": "light"
     },
     "output_type": "display_data"
    }
   ],
   "source": [
    "plt.hist(data.z_accel, range=[1750, 2250])\n",
    "plt.title('Primary distribution of z_accel values')\n",
    "plt.show()"
   ]
  },
  {
   "cell_type": "markdown",
   "id": "e096b6fd",
   "metadata": {},
   "source": [
    "**Activities:**"
   ]
  },
  {
   "cell_type": "code",
   "execution_count": 17,
   "id": "bdf15d68",
   "metadata": {},
   "outputs": [
    {
     "data": {
      "text/plain": [
       "1    608667\n",
       "7    593563\n",
       "4    357064\n",
       "3    216737\n",
       "5     51498\n",
       "2     47878\n",
       "6     47770\n",
       "0      3719\n",
       "Name: activity, dtype: int64"
      ]
     },
     "execution_count": 17,
     "metadata": {},
     "output_type": "execute_result"
    }
   ],
   "source": [
    "data.activity.value_counts()"
   ]
  },
  {
   "cell_type": "code",
   "execution_count": 18,
   "id": "9a9a8bdb",
   "metadata": {},
   "outputs": [
    {
     "data": {
      "text/html": [
       "<div>\n",
       "<style scoped>\n",
       "    .dataframe tbody tr th:only-of-type {\n",
       "        vertical-align: middle;\n",
       "    }\n",
       "\n",
       "    .dataframe tbody tr th {\n",
       "        vertical-align: top;\n",
       "    }\n",
       "\n",
       "    .dataframe thead th {\n",
       "        text-align: right;\n",
       "    }\n",
       "</style>\n",
       "<table border=\"1\" class=\"dataframe\">\n",
       "  <thead>\n",
       "    <tr style=\"text-align: right;\">\n",
       "      <th></th>\n",
       "      <th>x_accel</th>\n",
       "      <th>y_accel</th>\n",
       "      <th>z_accel</th>\n",
       "      <th>activity</th>\n",
       "    </tr>\n",
       "  </thead>\n",
       "  <tbody>\n",
       "    <tr>\n",
       "      <th>122200</th>\n",
       "      <td>2064</td>\n",
       "      <td>2387</td>\n",
       "      <td>2002</td>\n",
       "      <td>0</td>\n",
       "    </tr>\n",
       "    <tr>\n",
       "      <th>282201</th>\n",
       "      <td>1926</td>\n",
       "      <td>2359</td>\n",
       "      <td>2026</td>\n",
       "      <td>0</td>\n",
       "    </tr>\n",
       "    <tr>\n",
       "      <th>329702</th>\n",
       "      <td>1991</td>\n",
       "      <td>2322</td>\n",
       "      <td>1928</td>\n",
       "      <td>0</td>\n",
       "    </tr>\n",
       "    <tr>\n",
       "      <th>329703</th>\n",
       "      <td>2007</td>\n",
       "      <td>2324</td>\n",
       "      <td>1919</td>\n",
       "      <td>0</td>\n",
       "    </tr>\n",
       "    <tr>\n",
       "      <th>329704</th>\n",
       "      <td>2030</td>\n",
       "      <td>2319</td>\n",
       "      <td>1933</td>\n",
       "      <td>0</td>\n",
       "    </tr>\n",
       "    <tr>\n",
       "      <th>...</th>\n",
       "      <td>...</td>\n",
       "      <td>...</td>\n",
       "      <td>...</td>\n",
       "      <td>...</td>\n",
       "    </tr>\n",
       "    <tr>\n",
       "      <th>1395060</th>\n",
       "      <td>2091</td>\n",
       "      <td>2541</td>\n",
       "      <td>2067</td>\n",
       "      <td>0</td>\n",
       "    </tr>\n",
       "    <tr>\n",
       "      <th>1522391</th>\n",
       "      <td>2065</td>\n",
       "      <td>2534</td>\n",
       "      <td>2060</td>\n",
       "      <td>0</td>\n",
       "    </tr>\n",
       "    <tr>\n",
       "      <th>1637093</th>\n",
       "      <td>1758</td>\n",
       "      <td>2303</td>\n",
       "      <td>2017</td>\n",
       "      <td>0</td>\n",
       "    </tr>\n",
       "    <tr>\n",
       "      <th>1763894</th>\n",
       "      <td>2102</td>\n",
       "      <td>2495</td>\n",
       "      <td>1939</td>\n",
       "      <td>0</td>\n",
       "    </tr>\n",
       "    <tr>\n",
       "      <th>1926895</th>\n",
       "      <td>2058</td>\n",
       "      <td>2405</td>\n",
       "      <td>1943</td>\n",
       "      <td>0</td>\n",
       "    </tr>\n",
       "  </tbody>\n",
       "</table>\n",
       "<p>3719 rows × 4 columns</p>\n",
       "</div>"
      ],
      "text/plain": [
       "         x_accel  y_accel  z_accel  activity\n",
       "122200      2064     2387     2002         0\n",
       "282201      1926     2359     2026         0\n",
       "329702      1991     2322     1928         0\n",
       "329703      2007     2324     1919         0\n",
       "329704      2030     2319     1933         0\n",
       "...          ...      ...      ...       ...\n",
       "1395060     2091     2541     2067         0\n",
       "1522391     2065     2534     2060         0\n",
       "1637093     1758     2303     2017         0\n",
       "1763894     2102     2495     1939         0\n",
       "1926895     2058     2405     1943         0\n",
       "\n",
       "[3719 rows x 4 columns]"
      ]
     },
     "execution_count": 18,
     "metadata": {},
     "output_type": "execute_result"
    }
   ],
   "source": [
    "# inspecting rows from unexpected 0 class\n",
    "data[data['activity'] == 0]"
   ]
  },
  {
   "cell_type": "code",
   "execution_count": 19,
   "id": "2eb54bdb",
   "metadata": {},
   "outputs": [
    {
     "data": {
      "image/png": "[encoded data removed]",
      "text/plain": [
       "<Figure size 432x288 with 1 Axes>"
      ]
     },
     "metadata": {
      "needs_background": "light"
     },
     "output_type": "display_data"
    }
   ],
   "source": [
    "plt.bar(data.activity.value_counts().index, data.activity.value_counts())\n",
    "plt.title('Observations per activity')\n",
    "plt.show()"
   ]
  },
  {
   "cell_type": "markdown",
   "id": "9ecfe73c",
   "metadata": {},
   "source": [
    "**Acceleration values for each activity:**"
   ]
  },
  {
   "cell_type": "code",
   "execution_count": 20,
   "id": "2cacb543",
   "metadata": {},
   "outputs": [
    {
     "data": {
      "image/png": "[encoded data removed]",
      "text/plain": [
       "<Figure size 1296x1800 with 8 Axes>"
      ]
     },
     "metadata": {
      "needs_background": "light"
     },
     "output_type": "display_data"
    }
   ],
   "source": [
    "# explore the distributions of x_accel, y_accel, and z_accel\n",
    "labels = header[1:-1]\n",
    "plt.rcParams['figure.figsize'] = [18, 25]\n",
    "\n",
    "activities = data.activity.unique()\n",
    "\n",
    "for counter in range(len(activities)):\n",
    "    plt.subplot(3, 3, counter + 1)\n",
    "\n",
    "    plt.title(class_names[counter])\n",
    "\n",
    "    # display data from current activity\n",
    "    subset_data = data[data.activity==counter]\n",
    "    \n",
    "    # Set species names as labels for the boxplot\n",
    "    boxes = [subset_data.x_accel, subset_data.y_accel, subset_data.z_accel]\n",
    "\n",
    "    plt.boxplot(boxes, labels=labels)\n",
    "plt.show()"
   ]
  },
  {
   "cell_type": "code",
   "execution_count": 21,
   "id": "b2091eb3",
   "metadata": {},
   "outputs": [],
   "source": [
    "# reset matplotlib size\n",
    "%matplotlib inline"
   ]
  },
  {
   "cell_type": "code",
   "execution_count": 8,
   "id": "c7443186",
   "metadata": {},
   "outputs": [],
   "source": [
    "from mpl_toolkits import mplot3d"
   ]
  },
  {
   "cell_type": "code",
   "execution_count": null,
   "id": "ca7b6c60",
   "metadata": {},
   "outputs": [],
   "source": [
    "fig = plt.figure()\n",
    "ax = plt.axes(projection='3d')\n",
    "ax.scatter3D(data.x_accel, data.y_accel, data.z_accel, c=data.activity)"
   ]
  },
  {
   "cell_type": "markdown",
   "id": "7fefc731",
   "metadata": {},
   "source": [
    "**Correlation:**"
   ]
  },
  {
   "cell_type": "code",
   "execution_count": 22,
   "id": "25b12c48",
   "metadata": {},
   "outputs": [
    {
     "data": {
      "image/png": "[encoded data removed]",
      "text/plain": [
       "<Figure size 432x288 with 2 Axes>"
      ]
     },
     "metadata": {
      "needs_background": "light"
     },
     "output_type": "display_data"
    }
   ],
   "source": [
    "import seaborn as sns\n",
    "\n",
    "corr = data.corr()\n",
    "ax = sns.heatmap(\n",
    "    corr, \n",
    "    vmin=-1, vmax=1, center=0,\n",
    "    cmap=sns.diverging_palette(20, 220, n=200),\n",
    "    square=True\n",
    ")"
   ]
  },
  {
   "cell_type": "markdown",
   "id": "35b6a472",
   "metadata": {},
   "source": [
    "Based on this correlation heat map, acceleration in the X direction and acceleration in the Y direction have a fairly strong correlation. The same can be true about Y-directed acceleration and Z-directed acceleration. However, X-directed acceleration does not have a correlation with Z-directed acceleration. None of the accelerations have any significant correlation with activity but since activity is a nominal categorical variable, correlation does not make much sense here. "
   ]
  },
  {
   "cell_type": "code",
   "execution_count": 23,
   "id": "1ee2b4c7",
   "metadata": {},
   "outputs": [
    {
     "data": {
      "text/plain": [
       "3719"
      ]
     },
     "execution_count": 23,
     "metadata": {},
     "output_type": "execute_result"
    }
   ],
   "source": [
    "len(data[data.activity==0])"
   ]
  },
  {
   "cell_type": "markdown",
   "id": "6c5a9a43",
   "metadata": {},
   "source": [
    "### Data Preprocessing"
   ]
  },
  {
   "cell_type": "markdown",
   "id": "ca4b2ec9",
   "metadata": {},
   "source": [
    "For this particular dataset, I did not feel that there was a whole lot of preprocessing to be done on the data. The three features (x_accel, y_accel, and z_accel) were all complete (no missing values) and basically all on the same scale (no standardization or normalization required). I decided to leave the outliers in the dataset because I felt that they might be indicative of particular activities. "
   ]
  },
  {
   "cell_type": "markdown",
   "id": "2c21bf18",
   "metadata": {},
   "source": [
    "However, the documentation did not say anything about a label of zero. This could either mean that those data points were labeled in mistake or that they represented some 'other' category (as I assumed for much of the EDA process). Since this dataset and project were more focused around identifying the 7 activities mentioned on the dataset website, I decided to remove those records from the dataset. "
   ]
  },
  {
   "cell_type": "code",
   "execution_count": 8,
   "id": "d2e846e4",
   "metadata": {},
   "outputs": [],
   "source": [
    "rowsToDrop = data[data.activity==0].index\n",
    "data.drop(index=rowsToDrop, inplace=True, axis=0)"
   ]
  },
  {
   "cell_type": "markdown",
   "id": "0017d383",
   "metadata": {},
   "source": [
    "**Splitting train and test sets**"
   ]
  },
  {
   "cell_type": "code",
   "execution_count": 9,
   "id": "67de50e0",
   "metadata": {},
   "outputs": [],
   "source": [
    "X = data[['x_accel', 'y_accel', 'z_accel']]\n",
    "y = data['activity']"
   ]
  },
  {
   "cell_type": "code",
   "execution_count": 10,
   "id": "c11754f8",
   "metadata": {},
   "outputs": [],
   "source": [
    "from sklearn.model_selection import train_test_split"
   ]
  },
  {
   "cell_type": "code",
   "execution_count": 11,
   "id": "9971f8bf",
   "metadata": {},
   "outputs": [],
   "source": [
    "X_train, X_test, y_train, y_test = train_test_split(X, y, test_size=0.33, random_state=12)"
   ]
  },
  {
   "cell_type": "markdown",
   "id": "786ddabd",
   "metadata": {},
   "source": [
    "**Balancing the classes using SMOTE:**"
   ]
  },
  {
   "cell_type": "code",
   "execution_count": 14,
   "id": "052aac2f",
   "metadata": {},
   "outputs": [
    {
     "name": "stdout",
     "output_type": "stream",
     "text": [
      "Collecting imbalanced-learn\n",
      "  Downloading imbalanced_learn-0.8.0-py3-none-any.whl (206 kB)\n",
      "\u001b[K     |████████████████████████████████| 206 kB 7.5 MB/s eta 0:00:01\n",
      "\u001b[?25hRequirement already satisfied: scipy>=0.19.1 in /home/ec2-user/anaconda3/envs/python3/lib/python3.6/site-packages (from imbalanced-learn) (1.5.3)\n",
      "Requirement already satisfied: scikit-learn>=0.24 in /home/ec2-user/anaconda3/envs/python3/lib/python3.6/site-packages (from imbalanced-learn) (0.24.1)\n",
      "Requirement already satisfied: numpy>=1.13.3 in /home/ec2-user/anaconda3/envs/python3/lib/python3.6/site-packages (from imbalanced-learn) (1.19.5)\n",
      "Requirement already satisfied: joblib>=0.11 in /home/ec2-user/anaconda3/envs/python3/lib/python3.6/site-packages (from imbalanced-learn) (1.0.1)\n",
      "Requirement already satisfied: threadpoolctl>=2.0.0 in /home/ec2-user/anaconda3/envs/python3/lib/python3.6/site-packages (from scikit-learn>=0.24->imbalanced-learn) (2.1.0)\n",
      "Installing collected packages: imbalanced-learn\n",
      "Successfully installed imbalanced-learn-0.8.0\n"
     ]
    }
   ],
   "source": [
    "# !pip install imbalanced-learn # uncomment if you need to install the imbalanced-learn library"
   ]
  },
  {
   "cell_type": "code",
   "execution_count": 15,
   "id": "b10f7292",
   "metadata": {},
   "outputs": [],
   "source": [
    "from imblearn.over_sampling import SMOTE"
   ]
  },
  {
   "cell_type": "markdown",
   "id": "ecb6255e",
   "metadata": {},
   "source": [
    "Since there is a pretty drastic class imbalance between some of the activity types, I decided to use SMOTE to generate synthetic data points in underrepresented classes. I decided to use SMOTE on only the training dataset because I wanted only real examples in my test set. This would more closely represent the unseen data that would be given to this model, should it be deployed in production. "
   ]
  },
  {
   "cell_type": "code",
   "execution_count": 16,
   "id": "24e5a4ef",
   "metadata": {},
   "outputs": [
    {
     "name": "stdout",
     "output_type": "stream",
     "text": [
      "CPU times: user 6.84 s, sys: 81.9 ms, total: 6.92 s\n",
      "Wall time: 6.92 s\n"
     ]
    }
   ],
   "source": [
    "%%time\n",
    "\n",
    "smote = SMOTE()\n",
    "X_train, y_train = smote.fit_resample(X_train, y_train)"
   ]
  },
  {
   "cell_type": "code",
   "execution_count": 17,
   "id": "1b56e375",
   "metadata": {},
   "outputs": [
    {
     "data": {
      "text/plain": [
       "2855860"
      ]
     },
     "execution_count": 17,
     "metadata": {},
     "output_type": "execute_result"
    }
   ],
   "source": [
    "len(X_train)"
   ]
  },
  {
   "cell_type": "code",
   "execution_count": 18,
   "id": "ca0d6cb2",
   "metadata": {},
   "outputs": [
    {
     "data": {
      "text/plain": [
       "2855860"
      ]
     },
     "execution_count": 18,
     "metadata": {},
     "output_type": "execute_result"
    }
   ],
   "source": [
    "len(y_train)"
   ]
  },
  {
   "cell_type": "code",
   "execution_count": 19,
   "id": "b97f9e8f",
   "metadata": {},
   "outputs": [
    {
     "data": {
      "text/plain": [
       "7    407980\n",
       "6    407980\n",
       "5    407980\n",
       "4    407980\n",
       "3    407980\n",
       "2    407980\n",
       "1    407980\n",
       "Name: activity, dtype: int64"
      ]
     },
     "execution_count": 19,
     "metadata": {},
     "output_type": "execute_result"
    }
   ],
   "source": [
    "y_train.value_counts()"
   ]
  },
  {
   "cell_type": "markdown",
   "id": "237ecee6",
   "metadata": {},
   "source": [
    "**Splitting train and test sets**"
   ]
  },
  {
   "cell_type": "code",
   "execution_count": 20,
   "id": "b3f3a824",
   "metadata": {},
   "outputs": [],
   "source": [
    "from sklearn.model_selection import train_test_split"
   ]
  },
  {
   "cell_type": "code",
   "execution_count": 21,
   "id": "1c64419a",
   "metadata": {},
   "outputs": [],
   "source": [
    "X_train, X_test, y_train, y_test = train_test_split(X, y, test_size=0.33, random_state=12)"
   ]
  },
  {
   "cell_type": "markdown",
   "id": "89a59442",
   "metadata": {},
   "source": [
    "### Test Harness"
   ]
  },
  {
   "cell_type": "code",
   "execution_count": 22,
   "id": "4a934d2d",
   "metadata": {},
   "outputs": [],
   "source": [
    "import time\n",
    "from sklearn.metrics import accuracy_score\n",
    "\n",
    "# Returns: timeToTrain, accuracy \n",
    "def test_algo(model):\n",
    "    start = time.time()\n",
    "    model.fit(X_train, y_train)\n",
    "    timeToTrain = time.time() - start\n",
    "    predictions = model.predict(X_test)\n",
    "    accuracy = accuracy_score(y_test, predictions)\n",
    "    return timeToTrain, accuracy"
   ]
  },
  {
   "cell_type": "markdown",
   "id": "3f2bcd4c",
   "metadata": {},
   "source": [
    "### Baseline Model"
   ]
  },
  {
   "cell_type": "markdown",
   "id": "560d8fce",
   "metadata": {},
   "source": [
    "For my baseline model, I'm going to use the sklearn logistic regression algorithm. This option is super easy to implement so it makes a good choice for a baseline model. However, I do not expect this algorithm to perform well on this dataset since it is unlikely that the underlying relationship between features and class is linear. In addition, logistic regression is not best suited for a multiclass classification problem."
   ]
  },
  {
   "cell_type": "markdown",
   "id": "858d84bc",
   "metadata": {},
   "source": [
    "Note on evaluation metric: For this project, I will be using accuracy to evaluate each model for its performance on the training dataset. While this metric is not ideal for many types of problems (specifically binary classification where one type of error costs much more than the other type of error), I believe it is a good fit for this problem. We want to be able to predict the right type of activity with very high accuracy and we will assume the cost of each misclassification is uniform amongst all the activity types. "
   ]
  },
  {
   "cell_type": "code",
   "execution_count": 37,
   "id": "0cf90ca2",
   "metadata": {},
   "outputs": [],
   "source": [
    "from sklearn.linear_model import LogisticRegression"
   ]
  },
  {
   "cell_type": "code",
   "execution_count": 38,
   "id": "3ab2507d",
   "metadata": {},
   "outputs": [
    {
     "name": "stdout",
     "output_type": "stream",
     "text": [
      "Algorithm: Logistic Regression\n",
      "Time to train (seconds):  92.25280904769897\n",
      "Accuracy:  0.3456682355128583\n"
     ]
    },
    {
     "name": "stderr",
     "output_type": "stream",
     "text": [
      "/home/ec2-user/anaconda3/envs/python3/lib/python3.6/site-packages/sklearn/linear_model/_logistic.py:765: ConvergenceWarning: lbfgs failed to converge (status=1):\n",
      "STOP: TOTAL NO. of ITERATIONS REACHED LIMIT.\n",
      "\n",
      "Increase the number of iterations (max_iter) or scale the data as shown in:\n",
      "    https://scikit-learn.org/stable/modules/preprocessing.html\n",
      "Please also refer to the documentation for alternative solver options:\n",
      "    https://scikit-learn.org/stable/modules/linear_model.html#logistic-regression\n",
      "  extra_warning_msg=_LOGISTIC_SOLVER_CONVERGENCE_MSG)\n"
     ]
    }
   ],
   "source": [
    "trainTime, acc = test_algo(LogisticRegression(random_state=12))\n",
    "print('Algorithm: Logistic Regression')\n",
    "print('Time to train (seconds): ', trainTime)\n",
    "print('Accuracy: ', acc)"
   ]
  },
  {
   "cell_type": "markdown",
   "id": "eeb3c8ee",
   "metadata": {},
   "source": [
    "**Note**: the following cells demonstrate the use of several different algorithms. In order to find the best algorithm for this problem, I am taking a more experimental approach (rather than heuristic approach or simply using my favorite algorithms) so I intend to try many different algorithm types. My approach is to try several classification algorithms without optimization to determine which types of algorithms perform the best on this dataset. If an algorithm performs poorly during my preliminary training, it may suggest that this problem is not suited for that particular type of algorithm and I will most likely discard that algorithm. In subsequent sections, I will dive deeper into each algorithm and explore the hyperparameter space for each one. "
   ]
  },
  {
   "cell_type": "markdown",
   "id": "4c1f48ab",
   "metadata": {},
   "source": [
    "### K-Nearest Neighbors"
   ]
  },
  {
   "cell_type": "markdown",
   "id": "2fcf1a53",
   "metadata": {},
   "source": [
    "KNN is another simple algorithm that I think will perform much better than our baseline linear model because my initial data exploration suggested that the relationship between the features and the classes was not linear. Most likely, the same activity will produce similar acceleration values so KNN should be relatively effective for this problem."
   ]
  },
  {
   "cell_type": "code",
   "execution_count": 39,
   "id": "103dabe3",
   "metadata": {},
   "outputs": [],
   "source": [
    "from sklearn.neighbors import KNeighborsClassifier"
   ]
  },
  {
   "cell_type": "code",
   "execution_count": 40,
   "id": "2f34ebd5",
   "metadata": {},
   "outputs": [
    {
     "name": "stdout",
     "output_type": "stream",
     "text": [
      "Algorithm: KNN\n",
      "Time to train (seconds):  1.881371259689331\n",
      "Accuracy:  0.7236724551681323\n"
     ]
    }
   ],
   "source": [
    "trainTime, acc = test_algo(KNeighborsClassifier())\n",
    "print('Algorithm: KNN')\n",
    "print('Time to train (seconds): ', trainTime)\n",
    "print('Accuracy: ', acc)"
   ]
  },
  {
   "cell_type": "markdown",
   "id": "ef47e162",
   "metadata": {},
   "source": [
    "As I predicted, KNN performed significantly better than logistic regression for this problem, most likely due to the fact that the underlying relationship is non-linear. KNN was also very quick to train, taking less than 2 seconds.\n",
    "\n",
    "I may tweak the hyperparameters for KNN to achieve even better results after I have evaluated other non-linear options as well. "
   ]
  },
  {
   "cell_type": "markdown",
   "id": "7aa8af82",
   "metadata": {},
   "source": [
    "### Decision Tree"
   ]
  },
  {
   "cell_type": "code",
   "execution_count": 41,
   "id": "cb26658d",
   "metadata": {},
   "outputs": [],
   "source": [
    "from sklearn.tree import DecisionTreeClassifier"
   ]
  },
  {
   "cell_type": "code",
   "execution_count": 51,
   "id": "bd35c3f1",
   "metadata": {},
   "outputs": [
    {
     "name": "stdout",
     "output_type": "stream",
     "text": [
      "Algorithm: Decision Tree\n",
      "Time to train (seconds):  5.397968530654907\n",
      "Accuracy:  0.6571585238454641\n"
     ]
    }
   ],
   "source": [
    "trainTime, acc = test_algo(DecisionTreeClassifier(random_state=12))\n",
    "print('Algorithm: Decision Tree')\n",
    "print('Time to train (seconds): ', trainTime)\n",
    "print('Accuracy: ', acc)"
   ]
  },
  {
   "cell_type": "markdown",
   "id": "38883b09",
   "metadata": {},
   "source": [
    "Another non-linear algorithm, decision trees, performed much better than the baseline linear model. Again, this metric could be improved through hyperparameter optimization, but we will continue to explore other non-linear algorithms in the meantime. "
   ]
  },
  {
   "cell_type": "markdown",
   "id": "35c20da7",
   "metadata": {},
   "source": [
    "### XGBoost"
   ]
  },
  {
   "cell_type": "code",
   "execution_count": 44,
   "id": "820be4fa",
   "metadata": {},
   "outputs": [
    {
     "name": "stdout",
     "output_type": "stream",
     "text": [
      "Collecting xgboost\n",
      "  Downloading xgboost-1.4.2-py3-none-manylinux2010_x86_64.whl (166.7 MB)\n",
      "\u001b[K     |████████████████████████████████| 166.7 MB 8.1 kB/s  eta 0:00:01\n",
      "\u001b[?25hRequirement already satisfied: scipy in /home/ec2-user/anaconda3/envs/python3/lib/python3.6/site-packages (from xgboost) (1.5.3)\n",
      "Requirement already satisfied: numpy in /home/ec2-user/anaconda3/envs/python3/lib/python3.6/site-packages (from xgboost) (1.19.5)\n",
      "Installing collected packages: xgboost\n",
      "Successfully installed xgboost-1.4.2\n"
     ]
    }
   ],
   "source": [
    "# !pip install xgboost"
   ]
  },
  {
   "cell_type": "code",
   "execution_count": 45,
   "id": "62a001da",
   "metadata": {},
   "outputs": [],
   "source": [
    "import xgboost as xgb"
   ]
  },
  {
   "cell_type": "code",
   "execution_count": 46,
   "id": "0ee1dc5e",
   "metadata": {},
   "outputs": [
    {
     "name": "stderr",
     "output_type": "stream",
     "text": [
      "/home/ec2-user/anaconda3/envs/python3/lib/python3.6/site-packages/xgboost/sklearn.py:1146: UserWarning: The use of label encoder in XGBClassifier is deprecated and will be removed in a future release. To remove this warning, do the following: 1) Pass option use_label_encoder=False when constructing XGBClassifier object; and 2) Encode your labels (y) as integers starting with 0, i.e. 0, 1, 2, ..., [num_class - 1].\n",
      "  warnings.warn(label_encoder_deprecation_msg, UserWarning)\n"
     ]
    },
    {
     "name": "stdout",
     "output_type": "stream",
     "text": [
      "[15:44:26] WARNING: ../src/learner.cc:1095: Starting in XGBoost 1.3.0, the default evaluation metric used with the objective 'multi:softprob' was changed from 'merror' to 'mlogloss'. Explicitly set eval_metric if you'd like to restore the old behavior.\n",
      "Algorithm: XGBoost\n",
      "Time to train (seconds):  257.6851201057434\n",
      "Accuracy:  0.7446935235066943\n"
     ]
    }
   ],
   "source": [
    "trainTime, acc = test_algo(xgb.XGBClassifier())\n",
    "print('Algorithm: XGBoost')\n",
    "print('Time to train (seconds): ', trainTime)\n",
    "print('Accuracy: ', acc)"
   ]
  },
  {
   "cell_type": "markdown",
   "id": "cdff1845",
   "metadata": {},
   "source": [
    "XGBoost performed very well without any optimization. However, it did take much longer to train than many of the other algorithms. As a result, doing any sort of exhaustive grid search would be very expensive. "
   ]
  },
  {
   "cell_type": "markdown",
   "id": "7591195c",
   "metadata": {},
   "source": [
    "### Support Vector Machine"
   ]
  },
  {
   "cell_type": "markdown",
   "id": "5a7d2d7f",
   "metadata": {},
   "source": [
    "SVM is another powerful non-linear algorithm that might perform well on this dataset. "
   ]
  },
  {
   "cell_type": "code",
   "execution_count": 21,
   "id": "ef0b92dc",
   "metadata": {},
   "outputs": [],
   "source": [
    "from sklearn.svm import SVC"
   ]
  },
  {
   "cell_type": "code",
   "execution_count": 23,
   "id": "1ee578c9",
   "metadata": {},
   "outputs": [],
   "source": [
    "# SVM takes a very long time to train so we will train our model on a subset of the data to see if it might be a good fit for this problem\n",
    "subset_num_rows = int(len(X_train) / 100)\n",
    "X_train_subset = X_train.sample(subset_num_rows)\n",
    "y_train_subset = y_train[X_train_subset.index]"
   ]
  },
  {
   "cell_type": "code",
   "execution_count": 24,
   "id": "83336454",
   "metadata": {},
   "outputs": [
    {
     "data": {
      "text/plain": [
       "12885"
      ]
     },
     "execution_count": 24,
     "metadata": {},
     "output_type": "execute_result"
    }
   ],
   "source": [
    "len(X_train_subset)"
   ]
  },
  {
   "cell_type": "code",
   "execution_count": 24,
   "id": "5deeda88",
   "metadata": {},
   "outputs": [
    {
     "name": "stdout",
     "output_type": "stream",
     "text": [
      "Algorithm: SVM\n",
      "Accuracy:  0.5327511742711325\n",
      "CPU times: user 24min 21s, sys: 412 ms, total: 24min 22s\n",
      "Wall time: 24min 23s\n"
     ]
    }
   ],
   "source": [
    "%%time\n",
    "\n",
    "svm = SVC(random_state=12)\n",
    "\n",
    "svm.fit(X_train_subset, y_train_subset)\n",
    "predictions = svm.predict(X_test)\n",
    "accuracy = accuracy_score(y_test, predictions)\n",
    "\n",
    "print('Algorithm: SVM')\n",
    "print('Accuracy: ', accuracy)"
   ]
  },
  {
   "cell_type": "markdown",
   "id": "2e003c54",
   "metadata": {},
   "source": [
    "### Random Forest"
   ]
  },
  {
   "cell_type": "code",
   "execution_count": 26,
   "id": "8044b4bd",
   "metadata": {},
   "outputs": [],
   "source": [
    "from sklearn.ensemble import RandomForestClassifier"
   ]
  },
  {
   "cell_type": "code",
   "execution_count": 32,
   "id": "4b80ffa4",
   "metadata": {},
   "outputs": [
    {
     "name": "stdout",
     "output_type": "stream",
     "text": [
      "CPU times: user 15 s, sys: 716 ms, total: 15.7 s\n",
      "Wall time: 15.7 s\n"
     ]
    }
   ],
   "source": [
    "%%time\n",
    "# also training Random Forest on a subset of the data to speed up model training\n",
    "\n",
    "rfc = RandomForestClassifier() \n",
    "\n",
    "rfc.fit(X_train_subset, y_train_subset)\n",
    "predictions = rfc.predict(X_test)\n",
    "accuracy = accuracy_score(y_test, predictions)"
   ]
  },
  {
   "cell_type": "code",
   "execution_count": 33,
   "id": "4f71426f",
   "metadata": {},
   "outputs": [
    {
     "name": "stdout",
     "output_type": "stream",
     "text": [
      "Algorithm: Random Forest\n",
      "Accuracy:  0.7157216035950581\n"
     ]
    }
   ],
   "source": [
    "print('Algorithm: Random Forest')\n",
    "print('Accuracy: ', accuracy)"
   ]
  },
  {
   "cell_type": "markdown",
   "id": "f238d312",
   "metadata": {},
   "source": [
    "### Hyperparameter Optimization"
   ]
  },
  {
   "cell_type": "code",
   "execution_count": 47,
   "id": "a0eef11d",
   "metadata": {},
   "outputs": [],
   "source": [
    "from sklearn.model_selection import GridSearchCV"
   ]
  },
  {
   "cell_type": "markdown",
   "id": "6ede7ab6",
   "metadata": {},
   "source": [
    "**KNN Optimization**"
   ]
  },
  {
   "cell_type": "code",
   "execution_count": 61,
   "id": "c6139291",
   "metadata": {},
   "outputs": [
    {
     "name": "stdout",
     "output_type": "stream",
     "text": [
      "CPU times: user 7min 42s, sys: 4.69 s, total: 7min 47s\n",
      "Wall time: 7min 47s\n"
     ]
    }
   ],
   "source": [
    "%%time\n",
    "\n",
    "knn_k = []\n",
    "knn_acc = []\n",
    "for k in range(2, 100, 10):\n",
    "    trainTime, acc = test_algo(KNeighborsClassifier(n_neighbors=k))\n",
    "    knn_k.append(k)\n",
    "    knn_acc.append(acc)"
   ]
  },
  {
   "cell_type": "code",
   "execution_count": 62,
   "id": "c2f9da98",
   "metadata": {},
   "outputs": [
    {
     "data": {
      "image/png": "[encoded data removed]",
      "text/plain": [
       "<Figure size 432x288 with 1 Axes>"
      ]
     },
     "metadata": {
      "needs_background": "light"
     },
     "output_type": "display_data"
    }
   ],
   "source": [
    "plt.plot(knn_k, knn_acc)\n",
    "plt.title('KNN test accuracy vs number of neighbors')\n",
    "plt.show()"
   ]
  },
  {
   "cell_type": "markdown",
   "id": "0cc6bd58",
   "metadata": {},
   "source": [
    "**Decision Tree Optimization**"
   ]
  },
  {
   "cell_type": "code",
   "execution_count": 54,
   "id": "439182a0",
   "metadata": {},
   "outputs": [],
   "source": [
    "dt_params = {'max_depth': [None, 2, 4, 6]}\n",
    "dt_gs = GridSearchCV(DecisionTreeClassifier(random_state=12), dt_params)"
   ]
  },
  {
   "cell_type": "code",
   "execution_count": 55,
   "id": "9be9ff2d",
   "metadata": {},
   "outputs": [
    {
     "data": {
      "text/plain": [
       "GridSearchCV(estimator=DecisionTreeClassifier(random_state=12),\n",
       "             param_grid={'max_depth': [None, 2, 4, 6]})"
      ]
     },
     "execution_count": 55,
     "metadata": {},
     "output_type": "execute_result"
    }
   ],
   "source": [
    "%%time\n",
    "\n",
    "dt_gs.fit(X_train, y_train)"
   ]
  },
  {
   "cell_type": "code",
   "execution_count": 59,
   "id": "54a62fb6",
   "metadata": {},
   "outputs": [
    {
     "name": "stdout",
     "output_type": "stream",
     "text": [
      "{'max_depth': None}\n"
     ]
    }
   ],
   "source": [
    "print(dt_gs.best_params_) "
   ]
  },
  {
   "cell_type": "code",
   "execution_count": 60,
   "id": "16509c50",
   "metadata": {
    "scrolled": true
   },
   "outputs": [
    {
     "name": "stdout",
     "output_type": "stream",
     "text": [
      "Accuracy:  0.6571585238454641\n"
     ]
    }
   ],
   "source": [
    "predictions = dt_gs.predict(X_test)\n",
    "dt_accuracy = accuracy_score(y_test, predictions)\n",
    "print('Accuracy: ', dt_accuracy)"
   ]
  },
  {
   "cell_type": "markdown",
   "id": "f44929d2",
   "metadata": {},
   "source": [
    "We did not see much improvement while optimizing the hyperparameters of the decision tree algorithm. "
   ]
  },
  {
   "cell_type": "markdown",
   "id": "64f54e2e",
   "metadata": {},
   "source": [
    "**Random Forest Optimization**"
   ]
  },
  {
   "cell_type": "code",
   "execution_count": 48,
   "id": "ccbdf078",
   "metadata": {},
   "outputs": [],
   "source": [
    "rf_params = {'max_depth': range(2, 50), 'n_estimators': range(50, 300), 'min_samples_leaf': range(1, 10), 'min_samples_split': range(2, 20)}"
   ]
  },
  {
   "cell_type": "code",
   "execution_count": 49,
   "id": "fc136851",
   "metadata": {},
   "outputs": [],
   "source": [
    "# we will use random search instead of grid search to quickly search a larger hyperparameter space\n",
    "from sklearn.model_selection import RandomizedSearchCV"
   ]
  },
  {
   "cell_type": "code",
   "execution_count": 54,
   "id": "929841d6",
   "metadata": {},
   "outputs": [],
   "source": [
    "rf_rs = RandomizedSearchCV(RandomForestClassifier(), rf_params, random_state=12, n_iter=50, cv=3)"
   ]
  },
  {
   "cell_type": "code",
   "execution_count": 55,
   "id": "72d69526",
   "metadata": {},
   "outputs": [
    {
     "name": "stdout",
     "output_type": "stream",
     "text": [
      "CPU times: user 2min 51s, sys: 261 ms, total: 2min 51s\n",
      "Wall time: 2min 51s\n"
     ]
    },
    {
     "data": {
      "text/plain": [
       "RandomizedSearchCV(cv=3, estimator=RandomForestClassifier(), n_iter=50,\n",
       "                   param_distributions={'max_depth': range(2, 50),\n",
       "                                        'min_samples_leaf': range(1, 10),\n",
       "                                        'min_samples_split': range(2, 20),\n",
       "                                        'n_estimators': range(50, 300)},\n",
       "                   random_state=12)"
      ]
     },
     "execution_count": 55,
     "metadata": {},
     "output_type": "execute_result"
    }
   ],
   "source": [
    "%%time\n",
    "\n",
    "rf_rs.fit(X_train_subset, y_train_subset) # training on subset of data to speed up model training"
   ]
  },
  {
   "cell_type": "code",
   "execution_count": 56,
   "id": "32cf90b6",
   "metadata": {},
   "outputs": [
    {
     "name": "stdout",
     "output_type": "stream",
     "text": [
      "{'n_estimators': 163, 'min_samples_split': 8, 'min_samples_leaf': 2, 'max_depth': 25}\n"
     ]
    }
   ],
   "source": [
    "print(rf_rs.best_params_)"
   ]
  },
  {
   "cell_type": "code",
   "execution_count": 57,
   "id": "e9e8427e",
   "metadata": {},
   "outputs": [
    {
     "name": "stdout",
     "output_type": "stream",
     "text": [
      "Accuracy:  0.7266410251966048\n"
     ]
    }
   ],
   "source": [
    "predictions = rf_rs.predict(X_test)\n",
    "rf_acc = accuracy_score(y_test, predictions)\n",
    "print('Accuracy: ', rf_acc)"
   ]
  },
  {
   "cell_type": "markdown",
   "id": "739a0788",
   "metadata": {},
   "source": [
    "**XGBoost Optimization**"
   ]
  },
  {
   "cell_type": "code",
   "execution_count": 63,
   "id": "3f42195f",
   "metadata": {},
   "outputs": [],
   "source": [
    "xgboost_params = {'max_depth': [2, 4, 6], 'n_estimators': [20, 50, 100]}"
   ]
  },
  {
   "cell_type": "code",
   "execution_count": null,
   "id": "658684b0",
   "metadata": {
    "scrolled": true
   },
   "outputs": [],
   "source": [
    "%%time\n",
    "\n",
    "# warning: this cell takes multiple hours to execute\n",
    "# xgb_gs = GridSearchCV(xgb.XGBClassifier(), xgboost_params)\n",
    "# xgb_gs.fit(X_train, y_train)"
   ]
  },
  {
   "cell_type": "code",
   "execution_count": null,
   "id": "31d78b72",
   "metadata": {},
   "outputs": [],
   "source": [
    "print(xgb_gs.best_params_)"
   ]
  },
  {
   "cell_type": "code",
   "execution_count": null,
   "id": "5eb9180c",
   "metadata": {},
   "outputs": [],
   "source": [
    "predictions = xgb_gs.predict(X_test)\n",
    "xgb_acc = accuracy_score(y_test, predictions)\n",
    "print('Accuracy: ', xgb_acc)"
   ]
  }
 ],
 "metadata": {
  "kernelspec": {
   "display_name": "conda_python3",
   "language": "python",
   "name": "conda_python3"
  },
  "language_info": {
   "codemirror_mode": {
    "name": "ipython",
    "version": 3
   },
   "file_extension": ".py",
   "mimetype": "text/x-python",
   "name": "python",
   "nbconvert_exporter": "python",
   "pygments_lexer": "ipython3",
   "version": "3.6.13"
  }
 },
 "nbformat": 4,
 "nbformat_minor": 5
}
